{
 "cells": [
  {
   "cell_type": "code",
   "execution_count": 4,
   "id": "3262c9b5-f36c-4481-bfcc-18635a65b764",
   "metadata": {},
   "outputs": [
    {
     "name": "stdout",
     "output_type": "stream",
     "text": [
      "Accuracy: 0.5\n",
      "\n",
      "Classification Report:\n",
      "               precision    recall  f1-score   support\n",
      "\n",
      "    negative       0.33      1.00      0.50         1\n",
      "    positive       1.00      0.33      0.50         3\n",
      "\n",
      "    accuracy                           0.50         4\n",
      "   macro avg       0.67      0.67      0.50         4\n",
      "weighted avg       0.83      0.50      0.50         4\n",
      "\n",
      "\n",
      "Sample Predictions: ['negative' 'negative']\n"
     ]
    },
    {
     "name": "stderr",
     "output_type": "stream",
     "text": [
      "[nltk_data] Downloading package stopwords to C:\\Users\\VATSAL\n",
      "[nltk_data]     PARIKH\\AppData\\Roaming\\nltk_data...\n",
      "[nltk_data]   Package stopwords is already up-to-date!\n"
     ]
    }
   ],
   "source": [
    "import pandas as pd\n",
    "import re\n",
    "import nltk\n",
    "from sklearn.model_selection import train_test_split\n",
    "from sklearn.feature_extraction.text import TfidfVectorizer\n",
    "from sklearn.linear_model import LogisticRegression\n",
    "from sklearn.metrics import classification_report, accuracy_score\n",
    "nltk.download('stopwords')\n",
    "from nltk.corpus import stopwords\n",
    "stop_words = set(stopwords.words('english'))\n",
    "\n",
    "# Synthetic dataset with enough examples\n",
    "reviews = [\n",
    "    \"I absolutely loved this movie, it was fantastic and thrilling!\",\n",
    "    \"Worst movie ever. Complete waste of time and money.\",\n",
    "    \"The acting was okay, but the story was boring and predictable.\",\n",
    "    \"Amazing direction and great storyline, I enjoyed every moment!\",\n",
    "    \"I didn't like it at all, very disappointing and dull.\",\n",
    "    \"Superb performance by the cast, highly recommend watching it!\",\n",
    "    \"Terrible. Would not watch again, horrible experience.\",\n",
    "    \"This movie was a masterpiece, brilliant from start to finish.\",\n",
    "    \"Awful script and poor acting, not worth watching.\",\n",
    "    \"Loved the cinematography and music, really beautiful film!\",\n",
    "    \"Brilliant acting and amazing plot, loved every second!\",\n",
    "    \"Disgusting plot and terrible execution, hate it.\",\n",
    "    \"Great fun, I was smiling all through the movie.\",\n",
    "    \"It was so bad I walked out of the theatre.\",\n",
    "    \"One of the best films I've seen this year.\",\n",
    "    \"A complete mess of a movie, awful editing.\"\n",
    "]\n",
    "\n",
    "sentiments = [\n",
    "    \"positive\", \"negative\", \"negative\", \"positive\", \"negative\",\n",
    "    \"positive\", \"negative\", \"positive\", \"negative\", \"positive\",\n",
    "    \"positive\", \"negative\", \"positive\", \"negative\", \"positive\", \"negative\"\n",
    "]\n",
    "\n",
    "df = pd.DataFrame({\"review\": reviews, \"sentiment\": sentiments})\n",
    "\n",
    "# Text cleaning\n",
    "def clean_text(text):\n",
    "    text = text.lower()\n",
    "    text = re.sub(r'[^\\w\\s]', '', text)\n",
    "    text = \" \".join([word for word in text.split() if word not in stop_words])\n",
    "    return text\n",
    "\n",
    "df['clean_review'] = df['review'].apply(clean_text)\n",
    "\n",
    "# Train-test split\n",
    "X_train, X_test, y_train, y_test = train_test_split(df['clean_review'], df['sentiment'], test_size=0.25, random_state=42)\n",
    "\n",
    "# TF-IDF\n",
    "vectorizer = TfidfVectorizer()\n",
    "X_train_vec = vectorizer.fit_transform(X_train)\n",
    "X_test_vec = vectorizer.transform(X_test)\n",
    "\n",
    "# Model\n",
    "model = LogisticRegression()\n",
    "model.fit(X_train_vec, y_train)\n",
    "\n",
    "# Predictions\n",
    "y_pred = model.predict(X_test_vec)\n",
    "\n",
    "# Evaluation\n",
    "print(\"Accuracy:\", accuracy_score(y_test, y_pred))\n",
    "print(\"\\nClassification Report:\\n\", classification_report(y_test, y_pred, zero_division=0))\n",
    "\n",
    "# Sample prediction\n",
    "sample_text = [\"I really enjoyed this film\", \"It was a horrible experience\"]\n",
    "sample_clean = [clean_text(t) for t in sample_text]\n",
    "sample_vec = vectorizer.transform(sample_clean)\n",
    "print(\"\\nSample Predictions:\", model.predict(sample_vec))\n"
   ]
  },
  {
   "cell_type": "code",
   "execution_count": null,
   "id": "9761f4fd-a2aa-4de4-95c8-350be9347048",
   "metadata": {},
   "outputs": [],
   "source": []
  }
 ],
 "metadata": {
  "kernelspec": {
   "display_name": "Python 3 (ipykernel)",
   "language": "python",
   "name": "python3"
  },
  "language_info": {
   "codemirror_mode": {
    "name": "ipython",
    "version": 3
   },
   "file_extension": ".py",
   "mimetype": "text/x-python",
   "name": "python",
   "nbconvert_exporter": "python",
   "pygments_lexer": "ipython3",
   "version": "3.13.6"
  }
 },
 "nbformat": 4,
 "nbformat_minor": 5
}
